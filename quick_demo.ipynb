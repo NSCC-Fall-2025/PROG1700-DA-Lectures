{
 "cells": [
  {
   "cell_type": "code",
   "execution_count": 1,
   "id": "b3b3aa49-9ed6-4ba4-9e62-39f7fe196cfc",
   "metadata": {},
   "outputs": [
    {
     "name": "stdout",
     "output_type": "stream",
     "text": [
      "Hello World!\n"
     ]
    }
   ],
   "source": [
    "print(\"Hello World!\")"
   ]
  },
  {
   "cell_type": "code",
   "execution_count": 1,
   "id": "ced0b233-dd6e-457a-8ef4-2625bf875e06",
   "metadata": {},
   "outputs": [
    {
     "name": "stdout",
     "output_type": "stream",
     "text": [
      "Goodbye cruel world....\n"
     ]
    }
   ],
   "source": [
    "print(\"Goodbye cruel world....\")"
   ]
  },
  {
   "cell_type": "code",
   "execution_count": null,
   "id": "a46dffcb-2ca8-44ca-8594-09140e7c76d8",
   "metadata": {},
   "outputs": [],
   "source": []
  }
 ],
 "metadata": {
  "kernelspec": {
   "display_name": "Python 3 (ipykernel)",
   "language": "python",
   "name": "python3"
  },
  "language_info": {
   "codemirror_mode": {
    "name": "ipython",
    "version": 3
   },
   "file_extension": ".py",
   "mimetype": "text/x-python",
   "name": "python",
   "nbconvert_exporter": "python",
   "pygments_lexer": "ipython3",
   "version": "3.13.7"
  }
 },
 "nbformat": 4,
 "nbformat_minor": 5
}
