{
 "cells": [
  {
   "cell_type": "code",
   "execution_count": 1,
   "id": "76f27093-908d-469c-8d14-cf2b9a88ffbe",
   "metadata": {},
   "outputs": [
    {
     "name": "stdout",
     "output_type": "stream",
     "text": [
      "Hello World!\n"
     ]
    }
   ],
   "source": [
    "print(\"Hello World!\")"
   ]
  },
  {
   "cell_type": "code",
   "execution_count": 2,
   "id": "088fd682-574b-432e-a8aa-08a00ab0e591",
   "metadata": {},
   "outputs": [],
   "source": [
    "# comment\n",
    "# this is another comment\n",
    "# here is one more\n",
    "# the pound sign is the important thing"
   ]
  },
  {
   "cell_type": "code",
   "execution_count": 3,
   "id": "e3e6dc08-e101-4f0d-b365-5e6f6a43d266",
   "metadata": {},
   "outputs": [
    {
     "data": {
      "text/plain": [
       "'\\n    here is a\\n    multiline\\n    comment.\\n    this is useful for \\n    large amounts of text.\\n'"
      ]
     },
     "execution_count": 3,
     "metadata": {},
     "output_type": "execute_result"
    }
   ],
   "source": [
    "## this is also a comment\n",
    "'''\n",
    "    here is a\n",
    "    multiline\n",
    "    comment.\n",
    "    this is useful for \n",
    "    large amounts of text.\n",
    "'''"
   ]
  },
  {
   "cell_type": "code",
   "execution_count": 4,
   "id": "24247a12-5abb-46a9-b6a9-cebd5f63f8bc",
   "metadata": {},
   "outputs": [
    {
     "name": "stdout",
     "output_type": "stream",
     "text": [
      "Hello World!\n",
      "Here is something else to print.\n",
      "Here is something in 'quotes' and some numbers: 1234567\n"
     ]
    }
   ],
   "source": [
    "# the Python 'print' statement\n",
    "\n",
    "# for simple output\n",
    "print(\"Hello World!\")\n",
    "print(\"Here is something else to print.\")\n",
    "print(\"Here is something in 'quotes' and some numbers: 1234567\")"
   ]
  },
  {
   "cell_type": "code",
   "execution_count": 5,
   "id": "6d9abd49-0789-44bb-846f-d38ee00341e8",
   "metadata": {},
   "outputs": [
    {
     "name": "stdout",
     "output_type": "stream",
     "text": [
      "This is a string.\n"
     ]
    }
   ],
   "source": [
    "# a \"string\" is bunch alphanumeric data\n",
    "print(\"This is a string.\")"
   ]
  },
  {
   "cell_type": "code",
   "execution_count": 7,
   "id": "1be4a76b-b834-4e94-b4dd-228a3dcb61ad",
   "metadata": {},
   "outputs": [
    {
     "name": "stdout",
     "output_type": "stream",
     "text": [
      "12345\n",
      "12345\n"
     ]
    }
   ],
   "source": [
    "# an integer is a number not in quotes\n",
    "print(12345)\n",
    "print(\"12345\")"
   ]
  },
  {
   "cell_type": "code",
   "execution_count": 8,
   "id": "ef950bd4-f400-470a-9409-bc3efb8fe300",
   "metadata": {},
   "outputs": [
    {
     "name": "stdout",
     "output_type": "stream",
     "text": [
      "Hello World 123\n",
      "123 Somewhere st. Nova Scotia 456\n"
     ]
    }
   ],
   "source": [
    "# you can combine pieces of data together\n",
    "print(\"Hello World\", 123)\n",
    "print(123, \"Somewhere st.\", \"Nova Scotia\", 456)"
   ]
  },
  {
   "cell_type": "code",
   "execution_count": 9,
   "id": "326a32d7-1893-4714-a573-9a3a3cad5259",
   "metadata": {},
   "outputs": [
    {
     "name": "stdout",
     "output_type": "stream",
     "text": [
      "Hello\n",
      "World!\n"
     ]
    }
   ],
   "source": [
    "# special characters\n",
    "print(\"Hello\\nWorld!\") # \\n is a newline character"
   ]
  },
  {
   "cell_type": "code",
   "execution_count": 12,
   "id": "c7b410f4-101d-4565-9034-559ba5cf2d71",
   "metadata": {},
   "outputs": [
    {
     "name": "stdout",
     "output_type": "stream",
     "text": [
      "Sale Price: 12345\n",
      "Sale Price:12345\n"
     ]
    }
   ],
   "source": [
    "# demonstrating different newline styles\n",
    "print(\"Sale Price:\", 12345)\n",
    "print(\"Sale Price:\", end=\"\")\n",
    "print(12345)"
   ]
  },
  {
   "cell_type": "code",
   "execution_count": 14,
   "id": "123b1419-3b8c-47aa-b90f-a3df364723a4",
   "metadata": {},
   "outputs": [
    {
     "name": "stdin",
     "output_type": "stream",
     "text": [
      "Enter a number: 1234\n"
     ]
    }
   ],
   "source": [
    "# getting input from the user\n",
    "user_input = input(\"Enter a number:\")"
   ]
  },
  {
   "cell_type": "code",
   "execution_count": 15,
   "id": "da5bf6a3-3971-4be7-8c4d-4c0b9dd93599",
   "metadata": {},
   "outputs": [],
   "source": [
    "# more about variables\n",
    "\n",
    "# naming convention\n",
    "# keep variable names as descriptive as possible\n",
    "# snake_case\n",
    "# keep the length of a variable name to 1, 2, or 3 words (max)\n",
    "\n",
    "# examples of good variable names\n",
    "user_name = \"John Doe\" # a string variable\n",
    "cost = 123.45 # a decimal variable (floating point value)\n",
    "small_number = 3 # an integer variable\n",
    "binary_number = 0b10101010 # a binary integer\n",
    "hexadecimal = 0xABCD1234 # a hexadecimal integer\n",
    "big_number = 12345678901234567890 # huge integer\n",
    "\n",
    "# examples of bad variable names\n",
    "# my name = \"John\" # can't have spaces in the variable name\n",
    "# 123 = 123 # can't use a number as a variable name\n",
    "# :) = \"smiley\" # can't use special characters other than underscore\n",
    "# aVariableName = \"stuff\" # this is \"camelCasing\" and is used in other languages\n",
    "# x = \"hello\" # make variable names descriptive!"
   ]
  },
  {
   "cell_type": "code",
   "execution_count": 18,
   "id": "3897cad1-907a-411b-bf5a-0b6f90dea543",
   "metadata": {},
   "outputs": [
    {
     "name": "stdout",
     "output_type": "stream",
     "text": [
      "September 19 , 2025\n",
      "September 19, 2025\n"
     ]
    }
   ],
   "source": [
    "# Create a script that creates three variables to hold the current day, month and year. \n",
    "# Display the current date using those variables nicely formatted.\n",
    "day = 19\n",
    "month = \"September\"\n",
    "year = \"2025\"\n",
    "print(month, day, \",\", year)\n",
    "# using an f-string instead\n",
    "print(f\"{month} {day}, {year}\")"
   ]
  },
  {
   "cell_type": "code",
   "execution_count": 19,
   "id": "cb074663-9902-47c1-a3ce-3a6974ac1610",
   "metadata": {},
   "outputs": [
    {
     "name": "stdin",
     "output_type": "stream",
     "text": [
      "Enter your first name: brian\n",
      "Enter your last name: shewan\n"
     ]
    },
    {
     "name": "stdout",
     "output_type": "stream",
     "text": [
      "brian.shewan@nscc.ca\n"
     ]
    }
   ],
   "source": [
    "# Create a script that asks the user's first name and last name, \n",
    "# then have the script output their email address in the format \n",
    "# <first name>.<last name>@nscc.ca\n",
    "first_name = input(\"Enter your first name:\")\n",
    "last_name = input(\"Enter your last name:\")\n",
    "print(f\"{first_name}.{last_name}@nscc.ca\")"
   ]
  },
  {
   "cell_type": "code",
   "execution_count": null,
   "id": "ca67d109-fe1a-434d-b138-0ef945941a92",
   "metadata": {},
   "outputs": [],
   "source": []
  }
 ],
 "metadata": {
  "kernelspec": {
   "display_name": "Python 3 (ipykernel)",
   "language": "python",
   "name": "python3"
  },
  "language_info": {
   "codemirror_mode": {
    "name": "ipython",
    "version": 3
   },
   "file_extension": ".py",
   "mimetype": "text/x-python",
   "name": "python",
   "nbconvert_exporter": "python",
   "pygments_lexer": "ipython3",
   "version": "3.13.7"
  }
 },
 "nbformat": 4,
 "nbformat_minor": 5
}
