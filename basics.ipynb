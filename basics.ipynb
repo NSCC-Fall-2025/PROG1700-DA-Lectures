{
 "cells": [
  {
   "cell_type": "code",
   "execution_count": 1,
   "id": "76f27093-908d-469c-8d14-cf2b9a88ffbe",
   "metadata": {},
   "outputs": [
    {
     "name": "stdout",
     "output_type": "stream",
     "text": [
      "Hello World!\n"
     ]
    }
   ],
   "source": [
    "print(\"Hello World!\")"
   ]
  },
  {
   "cell_type": "code",
   "execution_count": 2,
   "id": "088fd682-574b-432e-a8aa-08a00ab0e591",
   "metadata": {},
   "outputs": [],
   "source": [
    "# comment\n",
    "# this is another comment\n",
    "# here is one more\n",
    "# the pound sign is the important thing"
   ]
  },
  {
   "cell_type": "code",
   "execution_count": 3,
   "id": "e3e6dc08-e101-4f0d-b365-5e6f6a43d266",
   "metadata": {},
   "outputs": [
    {
     "data": {
      "text/plain": [
       "'\\n    here is a\\n    multiline\\n    comment.\\n    this is useful for \\n    large amounts of text.\\n'"
      ]
     },
     "execution_count": 3,
     "metadata": {},
     "output_type": "execute_result"
    }
   ],
   "source": [
    "## this is also a comment\n",
    "'''\n",
    "    here is a\n",
    "    multiline\n",
    "    comment.\n",
    "    this is useful for \n",
    "    large amounts of text.\n",
    "'''"
   ]
  },
  {
   "cell_type": "code",
   "execution_count": 4,
   "id": "24247a12-5abb-46a9-b6a9-cebd5f63f8bc",
   "metadata": {},
   "outputs": [
    {
     "name": "stdout",
     "output_type": "stream",
     "text": [
      "Hello World!\n",
      "Here is something else to print.\n",
      "Here is something in 'quotes' and some numbers: 1234567\n"
     ]
    }
   ],
   "source": [
    "# the Python 'print' statement\n",
    "\n",
    "# for simple output\n",
    "print(\"Hello World!\")\n",
    "print(\"Here is something else to print.\")\n",
    "print(\"Here is something in 'quotes' and some numbers: 1234567\")"
   ]
  },
  {
   "cell_type": "code",
   "execution_count": 5,
   "id": "6d9abd49-0789-44bb-846f-d38ee00341e8",
   "metadata": {},
   "outputs": [
    {
     "name": "stdout",
     "output_type": "stream",
     "text": [
      "This is a string.\n"
     ]
    }
   ],
   "source": [
    "# a \"string\" is bunch alphanumeric data\n",
    "print(\"This is a string.\")"
   ]
  },
  {
   "cell_type": "code",
   "execution_count": 7,
   "id": "1be4a76b-b834-4e94-b4dd-228a3dcb61ad",
   "metadata": {},
   "outputs": [
    {
     "name": "stdout",
     "output_type": "stream",
     "text": [
      "12345\n",
      "12345\n"
     ]
    }
   ],
   "source": [
    "# an integer is a number not in quotes\n",
    "print(12345)\n",
    "print(\"12345\")"
   ]
  },
  {
   "cell_type": "code",
   "execution_count": 8,
   "id": "ef950bd4-f400-470a-9409-bc3efb8fe300",
   "metadata": {},
   "outputs": [
    {
     "name": "stdout",
     "output_type": "stream",
     "text": [
      "Hello World 123\n",
      "123 Somewhere st. Nova Scotia 456\n"
     ]
    }
   ],
   "source": [
    "# you can combine pieces of data together\n",
    "print(\"Hello World\", 123)\n",
    "print(123, \"Somewhere st.\", \"Nova Scotia\", 456)"
   ]
  },
  {
   "cell_type": "code",
   "execution_count": 9,
   "id": "326a32d7-1893-4714-a573-9a3a3cad5259",
   "metadata": {},
   "outputs": [
    {
     "name": "stdout",
     "output_type": "stream",
     "text": [
      "Hello\n",
      "World!\n"
     ]
    }
   ],
   "source": [
    "# special characters\n",
    "print(\"Hello\\nWorld!\") # \\n is a newline character"
   ]
  },
  {
   "cell_type": "code",
   "execution_count": 12,
   "id": "c7b410f4-101d-4565-9034-559ba5cf2d71",
   "metadata": {},
   "outputs": [
    {
     "name": "stdout",
     "output_type": "stream",
     "text": [
      "Sale Price: 12345\n",
      "Sale Price:12345\n"
     ]
    }
   ],
   "source": [
    "# demonstrating different newline styles\n",
    "print(\"Sale Price:\", 12345)\n",
    "print(\"Sale Price:\", end=\"\")\n",
    "print(12345)"
   ]
  },
  {
   "cell_type": "code",
   "execution_count": 14,
   "id": "123b1419-3b8c-47aa-b90f-a3df364723a4",
   "metadata": {},
   "outputs": [
    {
     "name": "stdin",
     "output_type": "stream",
     "text": [
      "Enter a number: 1234\n"
     ]
    }
   ],
   "source": [
    "# getting input from the user\n",
    "user_input = input(\"Enter a number:\")"
   ]
  },
  {
   "cell_type": "code",
   "execution_count": 15,
   "id": "da5bf6a3-3971-4be7-8c4d-4c0b9dd93599",
   "metadata": {},
   "outputs": [],
   "source": [
    "# more about variables\n",
    "\n",
    "# naming convention\n",
    "# keep variable names as descriptive as possible\n",
    "# snake_case\n",
    "# keep the length of a variable name to 1, 2, or 3 words (max)\n",
    "\n",
    "# examples of good variable names\n",
    "user_name = \"John Doe\" # a string variable\n",
    "cost = 123.45 # a decimal variable (floating point value)\n",
    "small_number = 3 # an integer variable\n",
    "binary_number = 0b10101010 # a binary integer\n",
    "hexadecimal = 0xABCD1234 # a hexadecimal integer\n",
    "big_number = 12345678901234567890 # huge integer\n",
    "\n",
    "# examples of bad variable names\n",
    "# my name = \"John\" # can't have spaces in the variable name\n",
    "# 123 = 123 # can't use a number as a variable name\n",
    "# :) = \"smiley\" # can't use special characters other than underscore\n",
    "# aVariableName = \"stuff\" # this is \"camelCasing\" and is used in other languages\n",
    "# x = \"hello\" # make variable names descriptive!"
   ]
  },
  {
   "cell_type": "code",
   "execution_count": 18,
   "id": "3897cad1-907a-411b-bf5a-0b6f90dea543",
   "metadata": {},
   "outputs": [
    {
     "name": "stdout",
     "output_type": "stream",
     "text": [
      "September 19 , 2025\n",
      "September 19, 2025\n"
     ]
    }
   ],
   "source": [
    "# Create a script that creates three variables to hold the current day, month and year. \n",
    "# Display the current date using those variables nicely formatted.\n",
    "day = 19\n",
    "month = \"September\"\n",
    "year = \"2025\"\n",
    "print(month, day, \",\", year)\n",
    "# using an f-string instead\n",
    "print(f\"{month} {day}, {year}\")"
   ]
  },
  {
   "cell_type": "code",
   "execution_count": 19,
   "id": "cb074663-9902-47c1-a3ce-3a6974ac1610",
   "metadata": {},
   "outputs": [
    {
     "name": "stdin",
     "output_type": "stream",
     "text": [
      "Enter your first name: brian\n",
      "Enter your last name: shewan\n"
     ]
    },
    {
     "name": "stdout",
     "output_type": "stream",
     "text": [
      "brian.shewan@nscc.ca\n"
     ]
    }
   ],
   "source": [
    "# Create a script that asks the user's first name and last name, \n",
    "# then have the script output their email address in the format \n",
    "# <first name>.<last name>@nscc.ca\n",
    "first_name = input(\"Enter your first name:\")\n",
    "last_name = input(\"Enter your last name:\")\n",
    "print(f\"{first_name}.{last_name}@nscc.ca\")"
   ]
  },
  {
   "cell_type": "code",
   "execution_count": 5,
   "id": "ca67d109-fe1a-434d-b138-0ef945941a92",
   "metadata": {},
   "outputs": [
    {
     "name": "stdout",
     "output_type": "stream",
     "text": [
      "Hello World!!\n"
     ]
    }
   ],
   "source": [
    "# more about strings\n",
    "\n",
    "# define a string variable\n",
    "text = \"Hello World\"\n",
    "\n",
    "# concatenation of strings\n",
    "\"concatenate\" + \"strings\"\n",
    "\n",
    "text = \"Hello \" + \"World\"\n",
    "text = text + \"!\"\n",
    "text += \"!\"\n",
    "print(text)"
   ]
  },
  {
   "cell_type": "code",
   "execution_count": 10,
   "id": "663237cb-2cda-49e4-a507-e4ab022919d7",
   "metadata": {},
   "outputs": [
    {
     "name": "stdout",
     "output_type": "stream",
     "text": [
      "5685 Leeds St\n"
     ]
    }
   ],
   "source": [
    "# combine strings and numbers\n",
    "#address = 5685 + \" Leeds St\"    # ERROR! Can't add a number to a string\n",
    "address = \"5685\" + \" Leeds St\"\n",
    "address = str(5685) + \" Leeds St\"\n",
    "address = f\"{5685} Leeds St\"\n",
    "print(address)"
   ]
  },
  {
   "cell_type": "code",
   "execution_count": 13,
   "id": "1b2e0dfb-5ac7-4d0f-accb-3a5c010ed93b",
   "metadata": {},
   "outputs": [
    {
     "name": "stdout",
     "output_type": "stream",
     "text": [
      "Price: 123.45\n"
     ]
    }
   ],
   "source": [
    "# combine strings and decimals\n",
    "price_amount = 123.45\n",
    "price_string = \"Price: \" + str(price_amount)\n",
    "print(price_string)"
   ]
  },
  {
   "cell_type": "code",
   "execution_count": 18,
   "id": "0678d004-600e-41dc-8c8a-191f8ebcf9a1",
   "metadata": {},
   "outputs": [
    {
     "name": "stdout",
     "output_type": "stream",
     "text": [
      "Sum = 3\n"
     ]
    }
   ],
   "source": [
    "# combine strings and calculations\n",
    "answer = \"Sum = \" + str(1) + str(2)\n",
    "answer = \"Sum = \" + str(1 + 2)\n",
    "answer = f\"Sum = {1 + 2}\"\n",
    "print(answer)"
   ]
  },
  {
   "cell_type": "code",
   "execution_count": 23,
   "id": "b14dfc41-166f-4f91-947b-44a510db094e",
   "metadata": {},
   "outputs": [
    {
     "data": {
      "text/plain": [
       "'Hello Hello Hello World World World'"
      ]
     },
     "execution_count": 23,
     "metadata": {},
     "output_type": "execute_result"
    }
   ],
   "source": [
    "# formatted strings\n",
    "\"{}, {}\".format(\"Hello\", \"World\")\n",
    "\"{0}, {1}\".format(\"Hello\", \"World\")\n",
    "\"{1}, {0}\".format(\"Hello\", \"World\")\n",
    "\"{} + {} = {}\".format(1, 2, (1 + 2))\n",
    "\"{0} {0} {0} {1} {1} {1}\".format(\"Hello\", \"World\")"
   ]
  },
  {
   "cell_type": "code",
   "execution_count": 25,
   "id": "39f90dd6-35bb-4495-a57c-681ff3ae529b",
   "metadata": {},
   "outputs": [
    {
     "data": {
      "text/plain": [
       "'lamb'"
      ]
     },
     "execution_count": 25,
     "metadata": {},
     "output_type": "execute_result"
    }
   ],
   "source": [
    "# substrings\n",
    "\"cat dog mouse\"[4:7] # range where [start:end+1]\n",
    "text = \"Mary had a little lamb\"\n",
    "text[18:22]"
   ]
  },
  {
   "cell_type": "code",
   "execution_count": 26,
   "id": "a8dece61-2692-4ec8-840b-47775d062698",
   "metadata": {},
   "outputs": [
    {
     "data": {
      "text/plain": [
       "'------------------------------'"
      ]
     },
     "execution_count": 26,
     "metadata": {},
     "output_type": "execute_result"
    }
   ],
   "source": [
    "# replication operator\n",
    "\"-\" * 30"
   ]
  },
  {
   "cell_type": "code",
   "execution_count": 32,
   "id": "3873206d-7c50-402a-9793-ef4f46a6a345",
   "metadata": {},
   "outputs": [
    {
     "data": {
      "text/plain": [
       "bool"
      ]
     },
     "execution_count": 32,
     "metadata": {},
     "output_type": "execute_result"
    }
   ],
   "source": [
    "# more on data types\n",
    "\n",
    "# string\n",
    "# - a string of letters and numbers\n",
    "# - anything surrounded by double quotes\n",
    "type(\"Hello World\")\n",
    "\n",
    "# integer\n",
    "# - a whole number (no decimal points)\n",
    "# - not in quotation marks\n",
    "type(123)\n",
    "\n",
    "# float\n",
    "# - a number with a decimal point\n",
    "# - all decimal numbers can't be represented (e.g. pi)\n",
    "# - more represents an approximation than an actual number\n",
    "123123123123123123124523452345.23412341234123412341234123412341243\n",
    "type(123.45)\n",
    "\n",
    "# boolean\n",
    "# - True or False\n",
    "type(False)\n",
    "type(True)"
   ]
  },
  {
   "cell_type": "code",
   "execution_count": 49,
   "id": "869d77c4-565b-4c73-9f96-7d41ff1f0b50",
   "metadata": {},
   "outputs": [
    {
     "data": {
      "text/plain": [
       "False"
      ]
     },
     "execution_count": 49,
     "metadata": {},
     "output_type": "execute_result"
    }
   ],
   "source": [
    "# change data types\n",
    "\n",
    "# convert to an integer\n",
    "int(\"123\")   # success!\n",
    "# int(\"123a\")  # error...\n",
    "\n",
    "# convert to a string\n",
    "str(\"123123.12123\")\n",
    "str(False)\n",
    "str(123)\n",
    "str(123.123)\n",
    "\n",
    "# convert to/from a float\n",
    "float(\"12.34\")\n",
    "float(123)\n",
    "int(1.23)\n",
    "# float(\"asdasd\") # error...\n",
    "\n",
    "# convert to/from a boolean\n",
    "bool(\"hello\")\n",
    "bool(\"\")\n",
    "bool(123)\n",
    "bool(0)\n",
    "bool(1.23)\n",
    "bool(0.0)"
   ]
  },
  {
   "cell_type": "code",
   "execution_count": 51,
   "id": "968bd285-9e5b-4cad-b587-c9c5dbefc8db",
   "metadata": {},
   "outputs": [
    {
     "data": {
      "text/plain": [
       "int"
      ]
     },
     "execution_count": 51,
     "metadata": {},
     "output_type": "execute_result"
    }
   ],
   "source": [
    "# declaring a variable with a specific data type\n",
    "answer = 123.45\n",
    "type(answer)\n",
    "answer = int(123.45)\n",
    "type(answer)"
   ]
  },
  {
   "cell_type": "code",
   "execution_count": 55,
   "id": "8c081207-7ee4-47ed-b0cd-f251baa38c50",
   "metadata": {},
   "outputs": [
    {
     "name": "stdin",
     "output_type": "stream",
     "text": [
      "Enter a number 123\n",
      "Enter a number 123\n"
     ]
    },
    {
     "data": {
      "text/plain": [
       "int"
      ]
     },
     "execution_count": 55,
     "metadata": {},
     "output_type": "execute_result"
    }
   ],
   "source": [
    "# getting input from the user of a particular data type\n",
    "user_input = input(\"Enter a number\")\n",
    "type(user_input)\n",
    "user_number = int(user_input)\n",
    "type(user_number)\n",
    "user_number = int(input(\"Enter a number\"))\n",
    "type(user_number)"
   ]
  },
  {
   "cell_type": "code",
   "execution_count": 64,
   "id": "df61d0a4-d880-4660-96b6-f5f31bf90fb5",
   "metadata": {},
   "outputs": [
    {
     "data": {
      "text/plain": [
       "5.0"
      ]
     },
     "execution_count": 64,
     "metadata": {},
     "output_type": "execute_result"
    }
   ],
   "source": [
    "# math.....\n",
    "2 + 2\n",
    "4 - 2\n",
    "5 * 2\n",
    "10 / 4  # decimal division\n",
    "10 // 4 # integer division\n",
    "10 % 4  # modulus division (remainder of a long division)\n",
    "5 % 2\n",
    "5 ** 2  # exponents\n",
    "25 ** 0.5 # square root"
   ]
  },
  {
   "cell_type": "code",
   "execution_count": 67,
   "id": "4ee82076-a187-44b1-b6fe-0b81f07a83ed",
   "metadata": {},
   "outputs": [
    {
     "data": {
      "text/plain": [
       "7.75"
      ]
     },
     "execution_count": 67,
     "metadata": {},
     "output_type": "execute_result"
    }
   ],
   "source": [
    "# BEDMAS\n",
    "(1 + 2) * 2\n",
    "(1 + 2) * (3 - 4)\n",
    "(1 + 2) ** 2 / 4 * 3 + 2 - 1"
   ]
  },
  {
   "cell_type": "code",
   "execution_count": 71,
   "id": "bd316483-0979-4147-bf8a-82bb0b3c9bb5",
   "metadata": {},
   "outputs": [
    {
     "name": "stdout",
     "output_type": "stream",
     "text": [
      "5.0\n"
     ]
    }
   ],
   "source": [
    "# assignment operators\n",
    "a = 1 + 2\n",
    "a = a + 1\n",
    "a += 1\n",
    "a = a * 2\n",
    "a *= 2\n",
    "a = a / 2\n",
    "a /= 2\n",
    "print(a)"
   ]
  },
  {
   "cell_type": "code",
   "execution_count": 5,
   "id": "9792784b-40ff-4d33-9c1a-c755b4e91419",
   "metadata": {},
   "outputs": [
    {
     "data": {
      "text/plain": [
       "3.833"
      ]
     },
     "execution_count": 5,
     "metadata": {},
     "output_type": "execute_result"
    }
   ],
   "source": [
    "# math library\n",
    "import math\n",
    "math.pi\n",
    "math.sqrt(25)\n",
    "math.floor(5 / 2)\n",
    "math.floor(12.3455)\n",
    "math.ceil(12.3455)\n",
    "math.floor(1.6)\n",
    "math.ceil(1.3)\n",
    "round(12.3455, 2)\n",
    "\n",
    "round(3 + 5 / 6, 3)\n",
    "\n",
    "answer = 3 + 5 / 6\n",
    "round(answer, 3)"
   ]
  },
  {
   "cell_type": "code",
   "execution_count": 80,
   "id": "7f115a8e-65d2-4d34-9213-c5e4319ea540",
   "metadata": {},
   "outputs": [
    {
     "data": {
      "text/plain": [
       "['__doc__',\n",
       " '__loader__',\n",
       " '__name__',\n",
       " '__package__',\n",
       " '__spec__',\n",
       " 'acos',\n",
       " 'acosh',\n",
       " 'asin',\n",
       " 'asinh',\n",
       " 'atan',\n",
       " 'atan2',\n",
       " 'atanh',\n",
       " 'cbrt',\n",
       " 'ceil',\n",
       " 'comb',\n",
       " 'copysign',\n",
       " 'cos',\n",
       " 'cosh',\n",
       " 'degrees',\n",
       " 'dist',\n",
       " 'e',\n",
       " 'erf',\n",
       " 'erfc',\n",
       " 'exp',\n",
       " 'exp2',\n",
       " 'expm1',\n",
       " 'fabs',\n",
       " 'factorial',\n",
       " 'floor',\n",
       " 'fma',\n",
       " 'fmod',\n",
       " 'frexp',\n",
       " 'fsum',\n",
       " 'gamma',\n",
       " 'gcd',\n",
       " 'hypot',\n",
       " 'inf',\n",
       " 'isclose',\n",
       " 'isfinite',\n",
       " 'isinf',\n",
       " 'isnan',\n",
       " 'isqrt',\n",
       " 'lcm',\n",
       " 'ldexp',\n",
       " 'lgamma',\n",
       " 'log',\n",
       " 'log10',\n",
       " 'log1p',\n",
       " 'log2',\n",
       " 'modf',\n",
       " 'nan',\n",
       " 'nextafter',\n",
       " 'perm',\n",
       " 'pi',\n",
       " 'pow',\n",
       " 'prod',\n",
       " 'radians',\n",
       " 'remainder',\n",
       " 'sin',\n",
       " 'sinh',\n",
       " 'sqrt',\n",
       " 'sumprod',\n",
       " 'tan',\n",
       " 'tanh',\n",
       " 'tau',\n",
       " 'trunc',\n",
       " 'ulp']"
      ]
     },
     "execution_count": 80,
     "metadata": {},
     "output_type": "execute_result"
    }
   ],
   "source": [
    "dir(math)"
   ]
  },
  {
   "cell_type": "code",
   "execution_count": 3,
   "id": "4c2ff4f5-2644-4faa-8d24-b8f636d8fbc1",
   "metadata": {},
   "outputs": [
    {
     "name": "stdout",
     "output_type": "stream",
     "text": [
      "\\\n"
     ]
    }
   ],
   "source": [
    "print(\"\\\\\")"
   ]
  },
  {
   "cell_type": "code",
   "execution_count": 6,
   "id": "0536a1b3-4786-418f-8850-3ed040c97e0a",
   "metadata": {},
   "outputs": [
    {
     "data": {
      "text/plain": [
       "'World, Hello'"
      ]
     },
     "execution_count": 6,
     "metadata": {},
     "output_type": "execute_result"
    }
   ],
   "source": [
    "\"{1}, {0}\".format(\"Hello\", \"World\")"
   ]
  },
  {
   "cell_type": "code",
   "execution_count": 7,
   "id": "8c158e29-47e2-41d2-b96e-c40574dec0bb",
   "metadata": {},
   "outputs": [
    {
     "data": {
      "text/plain": [
       "'num = 123.35'"
      ]
     },
     "execution_count": 7,
     "metadata": {},
     "output_type": "execute_result"
    }
   ],
   "source": [
    "num = 123.3456\n",
    "f\"num = {num:.2f}\""
   ]
  },
  {
   "cell_type": "code",
   "execution_count": 9,
   "id": "f36878df-5cd8-4e0b-8a56-5c89341b4148",
   "metadata": {},
   "outputs": [
    {
     "data": {
      "text/plain": [
       "379.5"
      ]
     },
     "execution_count": 9,
     "metadata": {},
     "output_type": "execute_result"
    }
   ],
   "source": [
    "# 10% of 345\n",
    "345 + 345 * 0.1"
   ]
  },
  {
   "cell_type": "code",
   "execution_count": null,
   "id": "67f1868b-c596-4424-a7b7-8835f232fd56",
   "metadata": {},
   "outputs": [],
   "source": []
  }
 ],
 "metadata": {
  "kernelspec": {
   "display_name": "Python 3 (ipykernel)",
   "language": "python",
   "name": "python3"
  },
  "language_info": {
   "codemirror_mode": {
    "name": "ipython",
    "version": 3
   },
   "file_extension": ".py",
   "mimetype": "text/x-python",
   "name": "python",
   "nbconvert_exporter": "python",
   "pygments_lexer": "ipython3",
   "version": "3.13.7"
  }
 },
 "nbformat": 4,
 "nbformat_minor": 5
}
